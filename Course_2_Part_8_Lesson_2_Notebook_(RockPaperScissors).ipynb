{
  "nbformat": 4,
  "nbformat_minor": 0,
  "metadata": {
    "colab": {
      "name": "Course 2 - Part 8 - Lesson 2 - Notebook (RockPaperScissors).ipynb",
      "provenance": [],
      "collapsed_sections": [],
      "include_colab_link": true
    },
    "kernelspec": {
      "name": "python3",
      "display_name": "Python 3"
    },
    "accelerator": "GPU"
  },
  "cells": [
    {
      "cell_type": "markdown",
      "metadata": {
        "id": "view-in-github",
        "colab_type": "text"
      },
      "source": [
        "<a href=\"https://colab.research.google.com/github/denis-pingin/tensorflow-playground/blob/master/Course_2_Part_8_Lesson_2_Notebook_(RockPaperScissors).ipynb\" target=\"_parent\"><img src=\"https://colab.research.google.com/assets/colab-badge.svg\" alt=\"Open In Colab\"/></a>"
      ]
    },
    {
      "cell_type": "markdown",
      "metadata": {
        "colab_type": "text",
        "id": "rX8mhOLljYeM"
      },
      "source": [
        "##### Copyright 2019 The TensorFlow Authors."
      ]
    },
    {
      "cell_type": "code",
      "metadata": {
        "cellView": "form",
        "colab_type": "code",
        "id": "BZSlp3DAjdYf",
        "colab": {}
      },
      "source": [
        "#@title Licensed under the Apache License, Version 2.0 (the \"License\");\n",
        "# you may not use this file except in compliance with the License.\n",
        "# You may obtain a copy of the License at\n",
        "#\n",
        "# https://www.apache.org/licenses/LICENSE-2.0\n",
        "#\n",
        "# Unless required by applicable law or agreed to in writing, software\n",
        "# distributed under the License is distributed on an \"AS IS\" BASIS,\n",
        "# WITHOUT WARRANTIES OR CONDITIONS OF ANY KIND, either express or implied.\n",
        "# See the License for the specific language governing permissions and\n",
        "# limitations under the License."
      ],
      "execution_count": 0,
      "outputs": []
    },
    {
      "cell_type": "code",
      "metadata": {
        "id": "XP6Hkezf3j5Q",
        "colab_type": "code",
        "colab": {}
      },
      "source": [
        "!pip install --user tensorflow-gpu matplotlib pillow google.colab"
      ],
      "execution_count": 0,
      "outputs": []
    },
    {
      "cell_type": "code",
      "metadata": {
        "colab_type": "code",
        "id": "it1c0jCiNCIM",
        "colab": {}
      },
      "source": [
        "!wget --no-check-certificate \\\n",
        "    https://storage.googleapis.com/laurencemoroney-blog.appspot.com/rps.zip \\\n",
        "    -O C:/temp/rps.zip\n",
        "  \n",
        "!wget --no-check-certificate \\\n",
        "    https://storage.googleapis.com/laurencemoroney-blog.appspot.com/rps-test-set.zip \\\n",
        "    -O C:/temp/rps-test-set.zip"
      ],
      "execution_count": 0,
      "outputs": []
    },
    {
      "cell_type": "code",
      "metadata": {
        "colab_type": "code",
        "id": "PnYP_HhYNVUK",
        "colab": {}
      },
      "source": [
        "import os\n",
        "import zipfile\n",
        "\n",
        "local_zip = 'C:/temp/rps.zip'\n",
        "zip_ref = zipfile.ZipFile(local_zip, 'r')\n",
        "zip_ref.extractall('C:/temp/')\n",
        "zip_ref.close()\n",
        "\n",
        "local_zip = 'C:/temp/rps-test-set.zip'\n",
        "zip_ref = zipfile.ZipFile(local_zip, 'r')\n",
        "zip_ref.extractall('C:/temp/')\n",
        "zip_ref.close()"
      ],
      "execution_count": 0,
      "outputs": []
    },
    {
      "cell_type": "code",
      "metadata": {
        "colab_type": "code",
        "id": "MrxdR83ANgjS",
        "colab": {}
      },
      "source": [
        "rock_dir = os.path.join('C:/temp/rps/rock')\n",
        "paper_dir = os.path.join('C:/temp/rps/paper')\n",
        "scissors_dir = os.path.join('C:/temp/rps/scissors')\n",
        "\n",
        "print('total training rock images:', len(os.listdir(rock_dir)))\n",
        "print('total training paper images:', len(os.listdir(paper_dir)))\n",
        "print('total training scissors images:', len(os.listdir(scissors_dir)))\n",
        "\n",
        "rock_files = os.listdir(rock_dir)\n",
        "print(rock_files[:10])\n",
        "\n",
        "paper_files = os.listdir(paper_dir)\n",
        "print(paper_files[:10])\n",
        "\n",
        "scissors_files = os.listdir(scissors_dir)\n",
        "print(scissors_files[:10])"
      ],
      "execution_count": 0,
      "outputs": []
    },
    {
      "cell_type": "code",
      "metadata": {
        "colab_type": "code",
        "id": "jp9dLel9N9DS",
        "colab": {}
      },
      "source": [
        "%matplotlib inline\n",
        "\n",
        "import matplotlib.pyplot as plt\n",
        "import matplotlib.image as mpimg\n",
        "\n",
        "pic_index = 2\n",
        "\n",
        "next_rock = [os.path.join(rock_dir, fname) \n",
        "                for fname in rock_files[pic_index-2:pic_index]]\n",
        "next_paper = [os.path.join(paper_dir, fname) \n",
        "                for fname in paper_files[pic_index-2:pic_index]]\n",
        "next_scissors = [os.path.join(scissors_dir, fname) \n",
        "                for fname in scissors_files[pic_index-2:pic_index]]\n",
        "\n",
        "for i, img_path in enumerate(next_rock+next_paper+next_scissors):\n",
        "  #print(img_path)\n",
        "  img = mpimg.imread(img_path)\n",
        "  plt.imshow(img)\n",
        "  plt.axis('Off')\n",
        "  plt.show()"
      ],
      "execution_count": 0,
      "outputs": []
    },
    {
      "cell_type": "code",
      "metadata": {
        "id": "qpUmV_-4JByk",
        "colab_type": "code",
        "outputId": "10072d76-8c71-45cc-f1e4-1b12e705eda7",
        "colab": {
          "base_uri": "https://localhost:8080/",
          "height": 51
        }
      },
      "source": [
        "import tensorflow as tf\n",
        "\n",
        "gpus = tf.config.experimental.list_physical_devices('GPU')\n",
        "if gpus:\n",
        "  # Restrict TensorFlow to only use the first GPU\n",
        "  try:\n",
        "    # Currently, memory growth needs to be the same across GPUs\n",
        "    for gpu in gpus:\n",
        "      tf.config.experimental.set_memory_growth(gpu, True)\n",
        "    tf.config.experimental.set_visible_devices(gpus[0], 'GPU')\n",
        "    logical_gpus = tf.config.experimental.list_logical_devices('GPU')\n",
        "    print(len(gpus), \"Physical GPUs,\", len(logical_gpus), \"Logical GPU\")\n",
        "  except RuntimeError as e:\n",
        "    print(e)\n",
        "\n",
        "print(\"Num GPUs Available: \", len(tf.config.experimental.list_physical_devices('GPU')))"
      ],
      "execution_count": 0,
      "outputs": [
        {
          "output_type": "stream",
          "text": [
            "1 Physical GPUs, 1 Logical GPU\n",
            "Num GPUs Available:  1\n"
          ],
          "name": "stdout"
        }
      ]
    },
    {
      "cell_type": "code",
      "metadata": {
        "colab_type": "code",
        "id": "LWTisYLQM1aM",
        "outputId": "a4359159-0c73-4e62-b52c-9553b1cd3119",
        "colab": {
          "base_uri": "https://localhost:8080/",
          "height": 1000
        }
      },
      "source": [
        "import keras_preprocessing\n",
        "from keras_preprocessing import image\n",
        "from keras_preprocessing.image import ImageDataGenerator\n",
        "\n",
        "TRAINING_DIR = \"C:/temp/rps/\"\n",
        "training_datagen = ImageDataGenerator(\n",
        "      rescale = 1./255,\n",
        "\t    rotation_range=40,\n",
        "      width_shift_range=0.2,\n",
        "      height_shift_range=0.2,\n",
        "      shear_range=0.2,\n",
        "      zoom_range=0.2,\n",
        "      horizontal_flip=True,\n",
        "      fill_mode='nearest')\n",
        "\n",
        "VALIDATION_DIR = \"C:/temp/rps-test-set/\"\n",
        "validation_datagen = ImageDataGenerator(rescale = 1./255)\n",
        "\n",
        "train_generator = training_datagen.flow_from_directory(\n",
        "\tTRAINING_DIR,\n",
        "\ttarget_size=(150,150),\n",
        "\tclass_mode='categorical'\n",
        ")\n",
        "\n",
        "validation_generator = validation_datagen.flow_from_directory(\n",
        "\tVALIDATION_DIR,\n",
        "\ttarget_size=(150,150),\n",
        "\tclass_mode='categorical'\n",
        ")\n",
        "\n",
        "model = tf.keras.models.Sequential([\n",
        "    # Note the input shape is the desired size of the image 150x150 with 3 bytes color\n",
        "    # This is the first convolution\n",
        "    tf.keras.layers.Conv2D(64, (3,3), activation='relu', input_shape=(150, 150, 3)),\n",
        "    tf.keras.layers.MaxPooling2D(2, 2),\n",
        "    # The second convolution\n",
        "    tf.keras.layers.Conv2D(64, (3,3), activation='relu'),\n",
        "    tf.keras.layers.MaxPooling2D(2,2),\n",
        "    # The third convolution\n",
        "    tf.keras.layers.Conv2D(128, (3,3), activation='relu'),\n",
        "    tf.keras.layers.MaxPooling2D(2,2),\n",
        "    # The fourth convolution\n",
        "    tf.keras.layers.Conv2D(128, (3,3), activation='relu'),\n",
        "    tf.keras.layers.MaxPooling2D(2,2),\n",
        "    # Flatten the results to feed into a DNN\n",
        "    tf.keras.layers.Flatten(),\n",
        "    tf.keras.layers.Dropout(0.5),\n",
        "    # 512 neuron hidden layer\n",
        "    tf.keras.layers.Dense(512, activation='relu'),\n",
        "    tf.keras.layers.Dense(3, activation='softmax')\n",
        "])\n",
        "\n",
        "\n",
        "model.summary()\n",
        "\n",
        "model.compile(loss = 'categorical_crossentropy', optimizer='rmsprop', metrics=['accuracy'])\n",
        "\n",
        "history = model.fit(train_generator, epochs=25, validation_data = validation_generator, verbose = 1)\n",
        "\n",
        "model.save(\"rps.h5\")\n"
      ],
      "execution_count": 0,
      "outputs": [
        {
          "output_type": "stream",
          "text": [
            "Found 2520 images belonging to 3 classes.\n",
            "Found 372 images belonging to 3 classes.\n",
            "Model: \"sequential\"\n",
            "_________________________________________________________________\n",
            "Layer (type)                 Output Shape              Param #   \n",
            "=================================================================\n",
            "conv2d (Conv2D)              (None, 148, 148, 64)      1792      \n",
            "_________________________________________________________________\n",
            "max_pooling2d (MaxPooling2D) (None, 74, 74, 64)        0         \n",
            "_________________________________________________________________\n",
            "conv2d_1 (Conv2D)            (None, 72, 72, 64)        36928     \n",
            "_________________________________________________________________\n",
            "max_pooling2d_1 (MaxPooling2 (None, 36, 36, 64)        0         \n",
            "_________________________________________________________________\n",
            "conv2d_2 (Conv2D)            (None, 34, 34, 128)       73856     \n",
            "_________________________________________________________________\n",
            "max_pooling2d_2 (MaxPooling2 (None, 17, 17, 128)       0         \n",
            "_________________________________________________________________\n",
            "conv2d_3 (Conv2D)            (None, 15, 15, 128)       147584    \n",
            "_________________________________________________________________\n",
            "max_pooling2d_3 (MaxPooling2 (None, 7, 7, 128)         0         \n",
            "_________________________________________________________________\n",
            "flatten (Flatten)            (None, 6272)              0         \n",
            "_________________________________________________________________\n",
            "dropout (Dropout)            (None, 6272)              0         \n",
            "_________________________________________________________________\n",
            "dense (Dense)                (None, 512)               3211776   \n",
            "_________________________________________________________________\n",
            "dense_1 (Dense)              (None, 3)                 1539      \n",
            "=================================================================\n",
            "Total params: 3,473,475\n",
            "Trainable params: 3,473,475\n",
            "Non-trainable params: 0\n",
            "_________________________________________________________________\n",
            "WARNING:tensorflow:sample_weight modes were coerced from\n",
            "  ...\n",
            "    to  \n",
            "  ['...']\n",
            "WARNING:tensorflow:sample_weight modes were coerced from\n",
            "  ...\n",
            "    to  \n",
            "  ['...']\n",
            "Train for 79 steps, validate for 12 steps\n",
            "Epoch 1/25\n",
            "79/79 [==============================] - 24s 306ms/step - loss: 1.3346 - accuracy: 0.3671 - val_loss: 1.0347 - val_accuracy: 0.6586\n",
            "Epoch 2/25\n",
            "79/79 [==============================] - 16s 201ms/step - loss: 0.9403 - accuracy: 0.5468 - val_loss: 0.5284 - val_accuracy: 0.6613\n",
            "Epoch 3/25\n",
            "79/79 [==============================] - 16s 204ms/step - loss: 0.5840 - accuracy: 0.7556 - val_loss: 0.1444 - val_accuracy: 0.9919\n",
            "Epoch 4/25\n",
            "79/79 [==============================] - 16s 205ms/step - loss: 0.3986 - accuracy: 0.8397 - val_loss: 0.0409 - val_accuracy: 1.0000\n",
            "Epoch 5/25\n",
            "79/79 [==============================] - 15s 195ms/step - loss: 0.3032 - accuracy: 0.8813 - val_loss: 0.0464 - val_accuracy: 1.0000\n",
            "Epoch 6/25\n",
            "79/79 [==============================] - 15s 196ms/step - loss: 0.2432 - accuracy: 0.9127 - val_loss: 0.0340 - val_accuracy: 1.0000\n",
            "Epoch 7/25\n",
            "79/79 [==============================] - 15s 195ms/step - loss: 0.2173 - accuracy: 0.9230 - val_loss: 0.0276 - val_accuracy: 0.9839\n",
            "Epoch 8/25\n",
            "79/79 [==============================] - 15s 194ms/step - loss: 0.1777 - accuracy: 0.9337 - val_loss: 0.0242 - val_accuracy: 1.0000\n",
            "Epoch 9/25\n",
            "79/79 [==============================] - 16s 201ms/step - loss: 0.1362 - accuracy: 0.9560 - val_loss: 0.0597 - val_accuracy: 0.9704\n",
            "Epoch 10/25\n",
            "79/79 [==============================] - 16s 202ms/step - loss: 0.1854 - accuracy: 0.9361 - val_loss: 0.0750 - val_accuracy: 0.9597\n",
            "Epoch 11/25\n",
            "79/79 [==============================] - 16s 204ms/step - loss: 0.1240 - accuracy: 0.9571 - val_loss: 0.0419 - val_accuracy: 0.9731\n",
            "Epoch 12/25\n",
            "79/79 [==============================] - 15s 196ms/step - loss: 0.1122 - accuracy: 0.9603 - val_loss: 0.0309 - val_accuracy: 0.9973\n",
            "Epoch 13/25\n",
            "79/79 [==============================] - 15s 195ms/step - loss: 0.1188 - accuracy: 0.9611 - val_loss: 0.1259 - val_accuracy: 0.9489\n",
            "Epoch 14/25\n",
            "79/79 [==============================] - 15s 195ms/step - loss: 0.1109 - accuracy: 0.9639 - val_loss: 0.0565 - val_accuracy: 0.9651\n",
            "Epoch 15/25\n",
            "79/79 [==============================] - 15s 194ms/step - loss: 0.1175 - accuracy: 0.9635 - val_loss: 0.0533 - val_accuracy: 0.9651\n",
            "Epoch 16/25\n",
            "79/79 [==============================] - 15s 195ms/step - loss: 0.1370 - accuracy: 0.9528 - val_loss: 0.0431 - val_accuracy: 0.9785\n",
            "Epoch 17/25\n",
            "79/79 [==============================] - 16s 206ms/step - loss: 0.1039 - accuracy: 0.9647 - val_loss: 0.0458 - val_accuracy: 0.9758\n",
            "Epoch 18/25\n",
            "79/79 [==============================] - 16s 202ms/step - loss: 0.0971 - accuracy: 0.9706 - val_loss: 0.1277 - val_accuracy: 0.9597\n",
            "Epoch 19/25\n",
            "79/79 [==============================] - 16s 202ms/step - loss: 0.0932 - accuracy: 0.9710 - val_loss: 0.1287 - val_accuracy: 0.9543\n",
            "Epoch 20/25\n",
            "79/79 [==============================] - 16s 201ms/step - loss: 0.0698 - accuracy: 0.9730 - val_loss: 0.0025 - val_accuracy: 1.0000\n",
            "Epoch 21/25\n",
            "79/79 [==============================] - 16s 206ms/step - loss: 0.0948 - accuracy: 0.9687 - val_loss: 0.0297 - val_accuracy: 0.9731\n",
            "Epoch 22/25\n",
            "79/79 [==============================] - 16s 197ms/step - loss: 0.0740 - accuracy: 0.9794 - val_loss: 0.2748 - val_accuracy: 0.9005\n",
            "Epoch 23/25\n",
            "79/79 [==============================] - 16s 198ms/step - loss: 0.0697 - accuracy: 0.9762 - val_loss: 0.0656 - val_accuracy: 0.9839\n",
            "Epoch 24/25\n",
            "79/79 [==============================] - 16s 201ms/step - loss: 0.0704 - accuracy: 0.9742 - val_loss: 0.0504 - val_accuracy: 0.9731\n",
            "Epoch 25/25\n",
            "79/79 [==============================] - 16s 206ms/step - loss: 0.0747 - accuracy: 0.9786 - val_loss: 0.0145 - val_accuracy: 1.0000\n"
          ],
          "name": "stdout"
        }
      ]
    },
    {
      "cell_type": "code",
      "metadata": {
        "colab_type": "code",
        "id": "aeTRVCr6aosw",
        "outputId": "b27482e1-ba4e-4ed0-de50-a8314d1bd685",
        "colab": {
          "base_uri": "https://localhost:8080/",
          "height": 298
        }
      },
      "source": [
        "import matplotlib.pyplot as plt\n",
        "acc = history.history['accuracy']\n",
        "val_acc = history.history['val_accuracy']\n",
        "loss = history.history['loss']\n",
        "val_loss = history.history['val_loss']\n",
        "\n",
        "epochs = range(len(acc))\n",
        "\n",
        "plt.plot(epochs, acc, 'r', label='Training accuracy')\n",
        "plt.plot(epochs, val_acc, 'b', label='Validation accuracy')\n",
        "plt.title('Training and validation accuracy')\n",
        "plt.legend(loc=0)\n",
        "plt.figure()\n",
        "\n",
        "\n",
        "plt.show()"
      ],
      "execution_count": 0,
      "outputs": [
        {
          "output_type": "display_data",
          "data": {
            "text/plain": [
              "<Figure size 432x288 with 1 Axes>"
            ],
            "image/png": "[encoded data removed]"
          },
          "metadata": {
            "tags": [],
            "needs_background": "light"
          }
        },
        {
          "output_type": "display_data",
          "data": {
            "text/plain": [
              "<Figure size 432x288 with 0 Axes>"
            ]
          },
          "metadata": {
            "tags": []
          }
        }
      ]
    },
    {
      "cell_type": "code",
      "metadata": {
        "colab_type": "code",
        "id": "ZABJp7T3VLCU",
        "colab": {}
      },
      "source": [
        "import numpy as np\n",
        "from google.colab import files\n",
        "from keras.preprocessing import image\n",
        "\n",
        "uploaded = files.upload()\n",
        "\n",
        "for fn in uploaded.keys():\n",
        " \n",
        "  # predicting images\n",
        "  path = fn\n",
        "  img = image.load_img(path, target_size=(150, 150))\n",
        "  x = image.img_to_array(img)\n",
        "  x = np.expand_dims(x, axis=0)\n",
        "\n",
        "  images = np.vstack([x])\n",
        "  classes = model.predict(images, batch_size=10)\n",
        "  print(fn)\n",
        "  print(classes)"
      ],
      "execution_count": 0,
      "outputs": []
    }
  ]
}